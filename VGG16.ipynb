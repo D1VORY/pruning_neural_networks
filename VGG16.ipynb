{
  "nbformat": 4,
  "nbformat_minor": 0,
  "metadata": {
    "colab": {
      "name": "VGG16.ipynb",
      "provenance": [],
      "collapsed_sections": [],
      "mount_file_id": "15zsRXshm3Jla3Ku2IGOiKT1QKW8NiVX1",
      "authorship_tag": "ABX9TyOakKAm81MzPqzihbPu6xLv",
      "include_colab_link": true
    },
    "kernelspec": {
      "name": "python3",
      "display_name": "Python 3"
    },
    "accelerator": "GPU"
  },
  "cells": [
    {
      "cell_type": "markdown",
      "metadata": {
        "id": "view-in-github",
        "colab_type": "text"
      },
      "source": [
        "<a href=\"https://colab.research.google.com/github/D1VORY/pruning_neural_networks/blob/main/VGG16.ipynb\" target=\"_parent\"><img src=\"https://colab.research.google.com/assets/colab-badge.svg\" alt=\"Open In Colab\"/></a>"
      ]
    },
    {
      "cell_type": "code",
      "metadata": {
        "id": "pvPOOPkGRdCS"
      },
      "source": [
        "import numpy as np\n",
        "import tensorflow as tf\n",
        "import keras\n",
        "from keras.models import Sequential\n",
        "from keras.layers import (\n",
        "    Input, \n",
        "    Dense, \n",
        "    Activation, \n",
        "    Flatten, \n",
        "    Conv2D,\n",
        "    MaxPooling2D,\n",
        "    Dropout,\n",
        "    Lambda,\n",
        "    ZeroPadding2D,\n",
        "    MaxPool2D,\n",
        "    BatchNormalization\n",
        ")\n",
        "from keras import  losses\n",
        "import matplotlib.pyplot as plt\n",
        "from sklearn.utils import shuffle\n",
        "from keras.applications import ResNet101V2"
      ],
      "execution_count": 1,
      "outputs": []
    },
    {
      "cell_type": "code",
      "metadata": {
        "id": "5by_NZ_sWFrM"
      },
      "source": [
        "class VGG16:\n",
        "    def __init__(self, width = 224, height= 224, channels = 3):\n",
        "        self.model = self.init_model(width, height, channels)\n",
        "\n",
        "    def init_model(self, width, height, channels):\n",
        "        model = Sequential()\n",
        "\n",
        "        model.add(Conv2D(input_shape=(224,224,3),filters=64,kernel_size=(3,3),padding=\"same\", activation=\"relu\"))\n",
        "        model.add(BatchNormalization(axis=3))\n",
        "\n",
        "        model.add(Conv2D(filters=128,kernel_size=(5,5), activation=\"relu\"))\n",
        "        model.add(BatchNormalization(axis=3))\n",
        "        model.add(MaxPool2D(pool_size=(2,2),strides=(2,2)))\n",
        "        #model.add(Dropout(0.5))\n",
        "\n",
        "        model.add(Conv2D(filters=256,kernel_size=(3,3), activation=\"relu\"))\n",
        "        model.add(BatchNormalization(axis=3))\n",
        "        model.add(MaxPool2D(pool_size=(2,2),strides=(2,2)))\n",
        "        #model.add(Dropout(0.5))\n",
        "\n",
        "        model.add(Conv2D(filters=128,kernel_size=(1,1), activation=\"relu\"))\n",
        "        model.add(BatchNormalization(axis=3))\n",
        "        model.add(MaxPool2D(pool_size=(2,2),strides=(2,2)))\n",
        "        model.add(Dropout(0.5))\n",
        "\n",
        "        model.add(Conv2D(filters=512,kernel_size=(5,5), activation=\"relu\"))\n",
        "        model.add(BatchNormalization(axis=3))\n",
        "        model.add(MaxPool2D(pool_size=(2,2),strides=(2,2)))\n",
        "        #model.add(Dropout(0.5))\n",
        "\n",
        "        model.add(Conv2D(filters=256,kernel_size=(3,3), activation=\"relu\"))\n",
        "        model.add(BatchNormalization(axis=3))\n",
        "        model.add(MaxPool2D(pool_size=(2,2),strides=(2,2)))\n",
        "        #model.add(Dropout(0.5))\n",
        "\n",
        "        model.add(Conv2D(filters=128,kernel_size=(3,3), activation=\"relu\"))\n",
        "        model.add(BatchNormalization(axis=3))\n",
        "        model.add(MaxPool2D(pool_size=(2,2),strides=(2,2)))\n",
        "        model.add(Dropout(0.5))\n",
        "\n",
        "      \n",
        "\n",
        "        model.add(Flatten())\n",
        "        model.add(Dense(units=1024,activation=\"relu\"))\n",
        "        model.add(Dropout(0.2))\n",
        "        model.add(Dense(units=1024,activation=\"relu\"))\n",
        "        model.add(Dense(units=256,activation=\"relu\"))\n",
        "\n",
        "        model.add(Dense(units=40, activation=\"softmax\"))       \n",
        "\n",
        "       \n",
        "        return model\n",
        "\n",
        "    def summary(self):\n",
        "       # self.model.build()\n",
        "        return self.model.summary()"
      ],
      "execution_count": null,
      "outputs": []
    },
    {
      "cell_type": "code",
      "metadata": {
        "id": "u6B3gQS37_0s"
      },
      "source": [
        ""
      ],
      "execution_count": null,
      "outputs": []
    },
    {
      "cell_type": "code",
      "metadata": {
        "colab": {
          "base_uri": "https://localhost:8080/"
        },
        "id": "uHBMpUAWWNgL",
        "outputId": "2b22996e-2d39-4b50-917c-edf971c18a01"
      },
      "source": [
        "vgg = VGG16()\n",
        "vgg.summary()"
      ],
      "execution_count": null,
      "outputs": [
        {
          "output_type": "stream",
          "text": [
            "Model: \"sequential\"\n",
            "_________________________________________________________________\n",
            "Layer (type)                 Output Shape              Param #   \n",
            "=================================================================\n",
            "conv2d (Conv2D)              (None, 224, 224, 64)      1792      \n",
            "_________________________________________________________________\n",
            "batch_normalization (BatchNo (None, 224, 224, 64)      256       \n",
            "_________________________________________________________________\n",
            "conv2d_1 (Conv2D)            (None, 220, 220, 128)     204928    \n",
            "_________________________________________________________________\n",
            "batch_normalization_1 (Batch (None, 220, 220, 128)     512       \n",
            "_________________________________________________________________\n",
            "max_pooling2d (MaxPooling2D) (None, 110, 110, 128)     0         \n",
            "_________________________________________________________________\n",
            "conv2d_2 (Conv2D)            (None, 108, 108, 256)     295168    \n",
            "_________________________________________________________________\n",
            "batch_normalization_2 (Batch (None, 108, 108, 256)     1024      \n",
            "_________________________________________________________________\n",
            "max_pooling2d_1 (MaxPooling2 (None, 54, 54, 256)       0         \n",
            "_________________________________________________________________\n",
            "conv2d_3 (Conv2D)            (None, 54, 54, 128)       32896     \n",
            "_________________________________________________________________\n",
            "batch_normalization_3 (Batch (None, 54, 54, 128)       512       \n",
            "_________________________________________________________________\n",
            "max_pooling2d_2 (MaxPooling2 (None, 27, 27, 128)       0         \n",
            "_________________________________________________________________\n",
            "dropout (Dropout)            (None, 27, 27, 128)       0         \n",
            "_________________________________________________________________\n",
            "conv2d_4 (Conv2D)            (None, 23, 23, 512)       1638912   \n",
            "_________________________________________________________________\n",
            "batch_normalization_4 (Batch (None, 23, 23, 512)       2048      \n",
            "_________________________________________________________________\n",
            "max_pooling2d_3 (MaxPooling2 (None, 11, 11, 512)       0         \n",
            "_________________________________________________________________\n",
            "conv2d_5 (Conv2D)            (None, 9, 9, 256)         1179904   \n",
            "_________________________________________________________________\n",
            "batch_normalization_5 (Batch (None, 9, 9, 256)         1024      \n",
            "_________________________________________________________________\n",
            "max_pooling2d_4 (MaxPooling2 (None, 4, 4, 256)         0         \n",
            "_________________________________________________________________\n",
            "conv2d_6 (Conv2D)            (None, 2, 2, 128)         295040    \n",
            "_________________________________________________________________\n",
            "batch_normalization_6 (Batch (None, 2, 2, 128)         512       \n",
            "_________________________________________________________________\n",
            "max_pooling2d_5 (MaxPooling2 (None, 1, 1, 128)         0         \n",
            "_________________________________________________________________\n",
            "dropout_1 (Dropout)          (None, 1, 1, 128)         0         \n",
            "_________________________________________________________________\n",
            "flatten (Flatten)            (None, 128)               0         \n",
            "_________________________________________________________________\n",
            "dense (Dense)                (None, 1024)              132096    \n",
            "_________________________________________________________________\n",
            "dropout_2 (Dropout)          (None, 1024)              0         \n",
            "_________________________________________________________________\n",
            "dense_1 (Dense)              (None, 1024)              1049600   \n",
            "_________________________________________________________________\n",
            "dense_2 (Dense)              (None, 256)               262400    \n",
            "_________________________________________________________________\n",
            "dense_3 (Dense)              (None, 40)                10280     \n",
            "=================================================================\n",
            "Total params: 5,108,904\n",
            "Trainable params: 5,105,960\n",
            "Non-trainable params: 2,944\n",
            "_________________________________________________________________\n"
          ],
          "name": "stdout"
        }
      ]
    },
    {
      "cell_type": "code",
      "metadata": {
        "colab": {
          "base_uri": "https://localhost:8080/"
        },
        "id": "OSP2ahXQWZe9",
        "outputId": "945c077f-c5ba-46d6-e7bc-2ea321f974a4"
      },
      "source": [
        "x_train = np.load('/content/drive/My Drive/datasets/birds/x_train2.npy')\n",
        "y_train = np.load('/content/drive/My Drive/datasets/birds/y_train2.npy')\n",
        "x_test = np.load('/content/drive/My Drive/datasets/birds/x_test2.npy')\n",
        "y_test = np.load('/content/drive/My Drive/datasets/birds/y_test2.npy')\n",
        "\n",
        "\n",
        "print(\"x_train shape = \",x_train.shape)\n",
        "print(\"y_train shape = \",y_train.shape)\n",
        "print(\"\\nx_test shape = \",x_test.shape)\n",
        "print(\"y_test shape = \",y_test.shape)\n"
      ],
      "execution_count": null,
      "outputs": [
        {
          "output_type": "stream",
          "text": [
            "x_train shape =  (5391, 224, 224, 3)\n",
            "y_train shape =  (5391,)\n",
            "\n",
            "x_test shape =  (200, 224, 224, 3)\n",
            "y_test shape =  (200,)\n"
          ],
          "name": "stdout"
        }
      ]
    },
    {
      "cell_type": "code",
      "metadata": {
        "id": "nVdMU70f5CrQ"
      },
      "source": [
        "x_valid = np.load('/content/drive/My Drive/datasets/birds/x_valid2.npy')\n",
        "y_valid = np.load('/content/drive/My Drive/datasets/birds/y_valid2.npy')\n",
        "\n",
        "x_valid = x_valid / 255\n",
        "x_valid, y_valid = shuffle(x_valid, y_valid) "
      ],
      "execution_count": null,
      "outputs": []
    },
    {
      "cell_type": "code",
      "metadata": {
        "id": "ovudCAjvYs0r"
      },
      "source": [
        "x_train = x_train / 255\n",
        "x_test = x_test / 255\n",
        "# y_test = np.reshape(y_test, (y_test.shape[0],1,1,1))\n",
        "# y_train = np.reshape(y_train, (y_train.shape[0],1,1,1))"
      ],
      "execution_count": null,
      "outputs": []
    },
    {
      "cell_type": "code",
      "metadata": {
        "id": "pDWZ735ahrxu"
      },
      "source": [
        "x_train, y_train = shuffle(x_train, y_train) \n",
        "\n",
        "x_test, y_test = shuffle(x_test, y_test)\n"
      ],
      "execution_count": null,
      "outputs": []
    },
    {
      "cell_type": "code",
      "metadata": {
        "id": "QdGpqIFgZ37A"
      },
      "source": [
        "vgg.model.compile(optimizer='adam', loss=losses.sparse_categorical_crossentropy, metrics=['accuracy'])\n"
      ],
      "execution_count": null,
      "outputs": []
    },
    {
      "cell_type": "code",
      "metadata": {
        "id": "vpB_14urYvJy",
        "colab": {
          "base_uri": "https://localhost:8080/"
        },
        "outputId": "6598f1b3-088a-4360-ca67-fc452549f188"
      },
      "source": [
        "\n",
        "es_callback = keras.callbacks.EarlyStopping(monitor='val_loss', patience=1)\n",
        "\n",
        "history = vgg.model.fit(x_train, y_train, batch_size=64, epochs=1, validation_data=(x_valid,y_valid),  callbacks=[es_callback])"
      ],
      "execution_count": null,
      "outputs": [
        {
          "output_type": "stream",
          "text": [
            "85/85 [==============================] - 40s 472ms/step - loss: 0.0965 - accuracy: 0.9716 - val_loss: 0.7122 - val_accuracy: 0.8550\n"
          ],
          "name": "stdout"
        }
      ]
    },
    {
      "cell_type": "code",
      "metadata": {
        "colab": {
          "base_uri": "https://localhost:8080/",
          "height": 295
        },
        "id": "JFTL2OQrwsFc",
        "outputId": "e18de6a8-9305-4746-ab40-e350dc45bdc6"
      },
      "source": [
        "plt.plot(history.history['accuracy'])\n",
        "plt.plot(history.history['val_accuracy'])\n",
        "plt.title('Model accuracy')\n",
        "plt.ylabel('Accuracy')\n",
        "plt.xlabel('Epoch')\n",
        "plt.legend(['Train', 'Test'], loc='upper left')\n",
        "plt.show()"
      ],
      "execution_count": null,
      "outputs": [
        {
          "output_type": "display_data",
          "data": {
            "image/png": "[encoded data removed]",
            "text/plain": [
              "<Figure size 432x288 with 1 Axes>"
            ]
          },
          "metadata": {
            "tags": [],
            "needs_background": "light"
          }
        }
      ]
    },
    {
      "cell_type": "code",
      "metadata": {
        "colab": {
          "base_uri": "https://localhost:8080/"
        },
        "id": "870K_Jy4n9tt",
        "outputId": "19798f90-f2f4-41a6-983b-5a0e62759bf7"
      },
      "source": [
        "preds = vgg.model.evaluate(x_test, y_test)\n",
        "### END CODE HERE ###\n",
        "\n",
        "print (\"Loss = \" + str(preds[0]))\n",
        "print (\"Test Accuracy = \" + str(preds[1]))"
      ],
      "execution_count": null,
      "outputs": [
        {
          "output_type": "stream",
          "text": [
            "7/7 [==============================] - 0s 55ms/step - loss: 0.7088 - accuracy: 0.8800\n",
            "Loss = 0.7087718844413757\n",
            "Test Accuracy = 0.8799999952316284\n"
          ],
          "name": "stdout"
        }
      ]
    },
    {
      "cell_type": "code",
      "metadata": {
        "id": "h_f4nSZT1Vk5"
      },
      "source": [
        "vgg.model.save('/content/drive/My Drive/datasets/birds/models/v2/birdModel.h5')"
      ],
      "execution_count": null,
      "outputs": []
    },
    {
      "cell_type": "code",
      "metadata": {
        "id": "rg6yQqjg2A74"
      },
      "source": [
        "vgg.model.save_weights('/content/drive/My Drive/datasets/birds/models/v2/birdModelWeights.h5')"
      ],
      "execution_count": null,
      "outputs": []
    },
    {
      "cell_type": "code",
      "metadata": {
        "id": "zF3JHsFzH8zh"
      },
      "source": [
        "model.add(Conv2D(input_shape=(224,224,3),filters=64,kernel_size=(3,3),padding=\"same\", activation=\"relu\"))\n",
        "model.add(BatchNormalization(axis=3))\n",
        "\n",
        "model.add(Conv2D(filters=128,kernel_size=(5,5), activation=\"relu\"))\n",
        "model.add(BatchNormalization(axis=3))\n",
        "model.add(MaxPool2D(pool_size=(2,2),strides=(2,2)))\n",
        "\n",
        "model.add(Conv2D(filters=256,kernel_size=(3,3),padding=\"same\", activation=\"relu\"))\n",
        "model.add(BatchNormalization(axis=3))\n",
        "model.add(MaxPool2D(pool_size=(2,2),strides=(2,2)))\n",
        "\n",
        "\n",
        "model.add(Conv2D(filters=512,kernel_size=(3,3), activation=\"relu\"))\n",
        "model.add(Dropout(0.5))\n",
        "\n",
        "model.add(BatchNormalization(axis=3))\n",
        "model.add(MaxPool2D(pool_size=(2,2),strides=(2,2)))\n",
        "\n",
        "model.add(Conv2D(filters=256,kernel_size=(5,5),padding=\"same\", activation=\"relu\"))\n",
        "model.add(BatchNormalization(axis=3))\n",
        "model.add(MaxPool2D(pool_size=(2,2),strides=(2,2)))\n",
        "\n",
        "model.add(Dropout(0.5))\n",
        "\n",
        "model.add(Conv2D(filters=128,kernel_size=(3,3),padding=\"same\", activation=\"relu\"))\n",
        "model.add(BatchNormalization(axis=3))\n",
        "model.add(MaxPool2D(pool_size=(2,2),strides=(2,2)))\n",
        "\n",
        "model.add(Conv2D(filters=64,kernel_size=(3,3),padding=\"same\", activation=\"relu\"))\n",
        "model.add(BatchNormalization(axis=3))\n",
        "model.add(MaxPool2D(pool_size=(2,2),strides=(2,2)))\n",
        "\n",
        "model.add(Flatten())\n",
        "model.add(Dense(units=1024,activation=\"relu\"))\n",
        "model.add(Dropout(0.5))\n",
        "model.add(Dense(units=256,activation=\"relu\"))\n",
        "\n",
        "model.add(Dense(units=40, activation=\"softmax\"))"
      ],
      "execution_count": null,
      "outputs": []
    },
    {
      "cell_type": "code",
      "metadata": {
        "id": "cZRqFSOUdiut"
      },
      "source": [
        " model.add(Conv2D(input_shape=(224,224,3),filters=64,kernel_size=(3,3),padding=\"same\", activation=\"relu\"))\n",
        "        model.add(BatchNormalization(axis=3))\n",
        "\n",
        "        model.add(Conv2D(filters=128,kernel_size=(5,5), activation=\"relu\"))\n",
        "        model.add(BatchNormalization(axis=3))\n",
        "        model.add(MaxPool2D(pool_size=(2,2),strides=(2,2)))\n",
        "        #model.add(Dropout(0.5))\n",
        "\n",
        "        model.add(Conv2D(filters=256,kernel_size=(3,3), activation=\"relu\"))\n",
        "        model.add(BatchNormalization(axis=3))\n",
        "        model.add(MaxPool2D(pool_size=(2,2),strides=(2,2)))\n",
        "        #model.add(Dropout(0.5))\n",
        "\n",
        "        model.add(Conv2D(filters=128,kernel_size=(1,1), activation=\"relu\"))\n",
        "        model.add(BatchNormalization(axis=3))\n",
        "        model.add(MaxPool2D(pool_size=(2,2),strides=(2,2)))\n",
        "        model.add(Dropout(0.5))\n",
        "\n",
        "        model.add(Conv2D(filters=512,kernel_size=(5,5), activation=\"relu\"))\n",
        "        model.add(BatchNormalization(axis=3))\n",
        "        model.add(MaxPool2D(pool_size=(2,2),strides=(2,2)))\n",
        "        #model.add(Dropout(0.5))\n",
        "\n",
        "        model.add(Conv2D(filters=256,kernel_size=(3,3), activation=\"relu\"))\n",
        "        model.add(BatchNormalization(axis=3))\n",
        "        model.add(MaxPool2D(pool_size=(2,2),strides=(2,2)))\n",
        "        #model.add(Dropout(0.5))\n",
        "\n",
        "        model.add(Conv2D(filters=128,kernel_size=(3,3), activation=\"relu\"))\n",
        "        model.add(BatchNormalization(axis=3))\n",
        "        model.add(MaxPool2D(pool_size=(2,2),strides=(2,2)))\n",
        "        model.add(Dropout(0.5))\n",
        "\n",
        "      \n",
        "\n",
        "        model.add(Flatten())\n",
        "        model.add(Dense(units=1024,activation=\"relu\"))\n",
        "        model.add(Dropout(0.2))\n",
        "        model.add(Dense(units=256,activation=\"relu\"))\n",
        "\n",
        "        model.add(Dense(units=40, activation=\"softmax\"))\n",
        "        84.5"
      ],
      "execution_count": null,
      "outputs": []
    }
  ]
}