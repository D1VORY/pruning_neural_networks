{
  "nbformat": 4,
  "nbformat_minor": 0,
  "metadata": {
    "colab": {
      "name": "prunning.ipynb",
      "provenance": [],
      "collapsed_sections": [],
      "mount_file_id": "1Rm8HitTguIw0G8h7eA524cAmSFUVB1w2",
      "authorship_tag": "ABX9TyNL2zGhj24iOaICEYSkJHG7",
      "include_colab_link": true
    },
    "kernelspec": {
      "name": "python3",
      "display_name": "Python 3"
    },
    "accelerator": "GPU"
  },
  "cells": [
    {
      "cell_type": "markdown",
      "metadata": {
        "id": "view-in-github",
        "colab_type": "text"
      },
      "source": [
        "<a href=\"https://colab.research.google.com/github/D1VORY/pruning_neural_networks/blob/main/prunning.ipynb\" target=\"_parent\"><img src=\"https://colab.research.google.com/assets/colab-badge.svg\" alt=\"Open In Colab\"/></a>"
      ]
    },
    {
      "cell_type": "code",
      "metadata": {
        "id": "2IE9FbW5iSO6"
      },
      "source": [
        "import numpy as np\n",
        "import tensorflow as tf\n",
        "import keras\n",
        "import matplotlib.pyplot as plt\n",
        "from sklearn.utils import shuffle\n",
        "from keras import  losses"
      ],
      "execution_count": null,
      "outputs": []
    },
    {
      "cell_type": "code",
      "metadata": {
        "id": "kY8VS6B6U6gn"
      },
      "source": [
        "model  = keras.models.load_model('/content/drive/My Drive/datasets/birds/models/v2/birdModel.h5')\n"
      ],
      "execution_count": null,
      "outputs": []
    },
    {
      "cell_type": "code",
      "metadata": {
        "id": "A7kK-KudiuyM"
      },
      "source": [
        "model.load_weights('/content/drive/My Drive/datasets/birds/models/v2/birdModelWeights.h5')"
      ],
      "execution_count": null,
      "outputs": []
    },
    {
      "cell_type": "code",
      "metadata": {
        "id": "ydsgVC7SNGpr"
      },
      "source": [
        "model.layers[2].trainable_weights"
      ],
      "execution_count": null,
      "outputs": []
    },
    {
      "cell_type": "code",
      "metadata": {
        "id": "ljrq4F38YH6C",
        "colab": {
          "base_uri": "https://localhost:8080/"
        },
        "outputId": "ca614afb-e4c9-4fa0-d6e7-1ceee438e7c1"
      },
      "source": [
        "model.summary()"
      ],
      "execution_count": null,
      "outputs": [
        {
          "output_type": "stream",
          "text": [
            "Model: \"sequential\"\n",
            "_________________________________________________________________\n",
            "Layer (type)                 Output Shape              Param #   \n",
            "=================================================================\n",
            "conv2d (Conv2D)              (None, 224, 224, 64)      1792      \n",
            "_________________________________________________________________\n",
            "batch_normalization (BatchNo (None, 224, 224, 64)      256       \n",
            "_________________________________________________________________\n",
            "conv2d_1 (Conv2D)            (None, 220, 220, 128)     204928    \n",
            "_________________________________________________________________\n",
            "batch_normalization_1 (Batch (None, 220, 220, 128)     512       \n",
            "_________________________________________________________________\n",
            "max_pooling2d (MaxPooling2D) (None, 110, 110, 128)     0         \n",
            "_________________________________________________________________\n",
            "conv2d_2 (Conv2D)            (None, 108, 108, 256)     295168    \n",
            "_________________________________________________________________\n",
            "batch_normalization_2 (Batch (None, 108, 108, 256)     1024      \n",
            "_________________________________________________________________\n",
            "max_pooling2d_1 (MaxPooling2 (None, 54, 54, 256)       0         \n",
            "_________________________________________________________________\n",
            "conv2d_3 (Conv2D)            (None, 54, 54, 128)       32896     \n",
            "_________________________________________________________________\n",
            "batch_normalization_3 (Batch (None, 54, 54, 128)       512       \n",
            "_________________________________________________________________\n",
            "max_pooling2d_2 (MaxPooling2 (None, 27, 27, 128)       0         \n",
            "_________________________________________________________________\n",
            "dropout (Dropout)            (None, 27, 27, 128)       0         \n",
            "_________________________________________________________________\n",
            "conv2d_4 (Conv2D)            (None, 23, 23, 512)       1638912   \n",
            "_________________________________________________________________\n",
            "batch_normalization_4 (Batch (None, 23, 23, 512)       2048      \n",
            "_________________________________________________________________\n",
            "max_pooling2d_3 (MaxPooling2 (None, 11, 11, 512)       0         \n",
            "_________________________________________________________________\n",
            "conv2d_5 (Conv2D)            (None, 9, 9, 256)         1179904   \n",
            "_________________________________________________________________\n",
            "batch_normalization_5 (Batch (None, 9, 9, 256)         1024      \n",
            "_________________________________________________________________\n",
            "max_pooling2d_4 (MaxPooling2 (None, 4, 4, 256)         0         \n",
            "_________________________________________________________________\n",
            "conv2d_6 (Conv2D)            (None, 2, 2, 128)         295040    \n",
            "_________________________________________________________________\n",
            "batch_normalization_6 (Batch (None, 2, 2, 128)         512       \n",
            "_________________________________________________________________\n",
            "max_pooling2d_5 (MaxPooling2 (None, 1, 1, 128)         0         \n",
            "_________________________________________________________________\n",
            "dropout_1 (Dropout)          (None, 1, 1, 128)         0         \n",
            "_________________________________________________________________\n",
            "flatten (Flatten)            (None, 128)               0         \n",
            "_________________________________________________________________\n",
            "dense (Dense)                (None, 1024)              132096    \n",
            "_________________________________________________________________\n",
            "dropout_2 (Dropout)          (None, 1024)              0         \n",
            "_________________________________________________________________\n",
            "dense_1 (Dense)              (None, 1024)              1049600   \n",
            "_________________________________________________________________\n",
            "dense_2 (Dense)              (None, 256)               262400    \n",
            "_________________________________________________________________\n",
            "dense_3 (Dense)              (None, 40)                10280     \n",
            "=================================================================\n",
            "Total params: 5,108,904\n",
            "Trainable params: 5,105,960\n",
            "Non-trainable params: 2,944\n",
            "_________________________________________________________________\n"
          ],
          "name": "stdout"
        }
      ]
    },
    {
      "cell_type": "code",
      "metadata": {
        "id": "6210BKUIWD9B"
      },
      "source": [
        "x_test = np.load('/content/drive/My Drive/datasets/birds/x_test2.npy')\n",
        "y_test = np.load('/content/drive/My Drive/datasets/birds/y_test2.npy')\n",
        "\n",
        "x_test, y_test = shuffle(x_test, y_test)\n",
        "x_test = x_test / 255"
      ],
      "execution_count": null,
      "outputs": []
    },
    {
      "cell_type": "code",
      "metadata": {
        "colab": {
          "base_uri": "https://localhost:8080/"
        },
        "id": "zSOhDQegWN6Q",
        "outputId": "81a170c0-5536-49b0-d04e-750908d6af29"
      },
      "source": [
        "preds = model.evaluate(x_test, y_test)\n",
        "### END CODE HERE ###\n",
        "\n",
        "print (\"Loss = \" + str(preds[0]))\n",
        "print (\"Test Accuracy = \" + str(preds[1]))"
      ],
      "execution_count": null,
      "outputs": [
        {
          "output_type": "stream",
          "text": [
            "7/7 [==============================] - 38s 378ms/step - loss: 0.7088 - accuracy: 0.8800\n",
            "Loss = 0.7087731957435608\n",
            "Test Accuracy = 0.8799999952316284\n"
          ],
          "name": "stdout"
        }
      ]
    },
    {
      "cell_type": "code",
      "metadata": {
        "colab": {
          "base_uri": "https://localhost:8080/"
        },
        "id": "Tem-a4oJd8Na",
        "outputId": "9d9f2fd2-2e6b-4ba7-f2e8-6e3dab086b75"
      },
      "source": [
        "model.layers[23].get_config()"
      ],
      "execution_count": null,
      "outputs": [
        {
          "output_type": "execute_result",
          "data": {
            "text/plain": [
              "{'activation': 'relu',\n",
              " 'activity_regularizer': None,\n",
              " 'bias_constraint': None,\n",
              " 'bias_initializer': {'class_name': 'Zeros', 'config': {}},\n",
              " 'bias_regularizer': None,\n",
              " 'data_format': 'channels_last',\n",
              " 'dilation_rate': (1, 1),\n",
              " 'dtype': 'float32',\n",
              " 'filters': 128,\n",
              " 'groups': 1,\n",
              " 'kernel_constraint': None,\n",
              " 'kernel_initializer': {'class_name': 'GlorotUniform',\n",
              "  'config': {'seed': None}},\n",
              " 'kernel_regularizer': None,\n",
              " 'kernel_size': (5, 5),\n",
              " 'name': 'conv2d_1',\n",
              " 'padding': 'valid',\n",
              " 'strides': (1, 1),\n",
              " 'trainable': True,\n",
              " 'use_bias': True}"
            ]
          },
          "metadata": {
            "tags": []
          },
          "execution_count": 6
        }
      ]
    },
    {
      "cell_type": "code",
      "metadata": {
        "id": "Q13s9rntly_f"
      },
      "source": [
        "w = model.get_weights()"
      ],
      "execution_count": null,
      "outputs": []
    },
    {
      "cell_type": "code",
      "metadata": {
        "id": "I_Ci7bS5ej9O"
      },
      "source": [
        "len(w)"
      ],
      "execution_count": null,
      "outputs": []
    },
    {
      "cell_type": "code",
      "metadata": {
        "id": "Pakl77SQoOmm"
      },
      "source": [
        "for a in w:\n",
        "    print(a.shape)"
      ],
      "execution_count": null,
      "outputs": []
    },
    {
      "cell_type": "code",
      "metadata": {
        "colab": {
          "base_uri": "https://localhost:8080/"
        },
        "id": "wDbDnPWad4hA",
        "outputId": "08e13271-f557-4044-f3b3-6329a5635aa7"
      },
      "source": [
        "type(w)"
      ],
      "execution_count": null,
      "outputs": [
        {
          "output_type": "execute_result",
          "data": {
            "text/plain": [
              "list"
            ]
          },
          "metadata": {
            "tags": []
          },
          "execution_count": 19
        }
      ]
    },
    {
      "cell_type": "code",
      "metadata": {
        "colab": {
          "base_uri": "https://localhost:8080/"
        },
        "id": "vslFjgafcJ4a",
        "outputId": "87f96f30-a102-42ae-d85e-3b163ef9af03"
      },
      "source": [
        "#weights_m=model.get_weights()\n",
        "for layer in model.layers:\n",
        "    for w in layer.get_weights():\n",
        "        print(f\"{layer.name}: {w.shape}\")"
      ],
      "execution_count": null,
      "outputs": [
        {
          "output_type": "stream",
          "text": [
            "conv2d: (3, 3, 3, 64)\n",
            "conv2d: (64,)\n",
            "batch_normalization: (64,)\n",
            "batch_normalization: (64,)\n",
            "batch_normalization: (64,)\n",
            "batch_normalization: (64,)\n",
            "conv2d_1: (5, 5, 64, 128)\n",
            "conv2d_1: (128,)\n",
            "batch_normalization_1: (128,)\n",
            "batch_normalization_1: (128,)\n",
            "batch_normalization_1: (128,)\n",
            "batch_normalization_1: (128,)\n",
            "conv2d_2: (3, 3, 128, 256)\n",
            "conv2d_2: (256,)\n",
            "batch_normalization_2: (256,)\n",
            "batch_normalization_2: (256,)\n",
            "batch_normalization_2: (256,)\n",
            "batch_normalization_2: (256,)\n",
            "conv2d_3: (1, 1, 256, 128)\n",
            "conv2d_3: (128,)\n",
            "batch_normalization_3: (128,)\n",
            "batch_normalization_3: (128,)\n",
            "batch_normalization_3: (128,)\n",
            "batch_normalization_3: (128,)\n",
            "conv2d_4: (5, 5, 128, 512)\n",
            "conv2d_4: (512,)\n",
            "batch_normalization_4: (512,)\n",
            "batch_normalization_4: (512,)\n",
            "batch_normalization_4: (512,)\n",
            "batch_normalization_4: (512,)\n",
            "conv2d_5: (3, 3, 512, 256)\n",
            "conv2d_5: (256,)\n",
            "batch_normalization_5: (256,)\n",
            "batch_normalization_5: (256,)\n",
            "batch_normalization_5: (256,)\n",
            "batch_normalization_5: (256,)\n",
            "conv2d_6: (3, 3, 256, 128)\n",
            "conv2d_6: (128,)\n",
            "batch_normalization_6: (128,)\n",
            "batch_normalization_6: (128,)\n",
            "batch_normalization_6: (128,)\n",
            "batch_normalization_6: (128,)\n",
            "dense: (128, 1024)\n",
            "dense: (1024,)\n",
            "dense_1: (1024, 1024)\n",
            "dense_1: (1024,)\n",
            "dense_2: (1024, 256)\n",
            "dense_2: (256,)\n",
            "dense_3: (256, 40)\n",
            "dense_3: (40,)\n"
          ],
          "name": "stdout"
        }
      ]
    },
    {
      "cell_type": "code",
      "metadata": {
        "id": "hhibuSeFsp7o"
      },
      "source": [
        ""
      ],
      "execution_count": null,
      "outputs": []
    },
    {
      "cell_type": "code",
      "metadata": {
        "id": "cpsh5dSvB47q"
      },
      "source": [
        "w = np.array(w)"
      ],
      "execution_count": null,
      "outputs": []
    },
    {
      "cell_type": "code",
      "metadata": {
        "id": "BfBKzPAMy_rL"
      },
      "source": [
        "b = model.layers[3]"
      ],
      "execution_count": null,
      "outputs": []
    },
    {
      "cell_type": "code",
      "metadata": {
        "id": "JL0K7LC6z_ix"
      },
      "source": [
        "b.get"
      ],
      "execution_count": null,
      "outputs": []
    },
    {
      "cell_type": "code",
      "metadata": {
        "colab": {
          "base_uri": "https://localhost:8080/"
        },
        "id": "cLqhkNGBbFc2",
        "outputId": "70119842-5fe0-466c-e6cd-55f0117db605"
      },
      "source": [
        "model.get_config()"
      ],
      "execution_count": null,
      "outputs": [
        {
          "output_type": "execute_result",
          "data": {
            "text/plain": [
              "{'layers': [{'class_name': 'InputLayer',\n",
              "   'config': {'batch_input_shape': (None, 224, 224, 3),\n",
              "    'dtype': 'float32',\n",
              "    'name': 'conv2d_input',\n",
              "    'ragged': False,\n",
              "    'sparse': False}},\n",
              "  {'class_name': 'Conv2D',\n",
              "   'config': {'activation': 'relu',\n",
              "    'activity_regularizer': None,\n",
              "    'batch_input_shape': (None, 224, 224, 3),\n",
              "    'bias_constraint': None,\n",
              "    'bias_initializer': {'class_name': 'Zeros', 'config': {}},\n",
              "    'bias_regularizer': None,\n",
              "    'data_format': 'channels_last',\n",
              "    'dilation_rate': (1, 1),\n",
              "    'dtype': 'float32',\n",
              "    'filters': 64,\n",
              "    'groups': 1,\n",
              "    'kernel_constraint': None,\n",
              "    'kernel_initializer': {'class_name': 'GlorotUniform',\n",
              "     'config': {'seed': None}},\n",
              "    'kernel_regularizer': None,\n",
              "    'kernel_size': (3, 3),\n",
              "    'name': 'conv2d',\n",
              "    'padding': 'same',\n",
              "    'strides': (1, 1),\n",
              "    'trainable': True,\n",
              "    'use_bias': True}},\n",
              "  {'class_name': 'BatchNormalization',\n",
              "   'config': {'axis': ListWrapper([3]),\n",
              "    'beta_constraint': None,\n",
              "    'beta_initializer': {'class_name': 'Zeros', 'config': {}},\n",
              "    'beta_regularizer': None,\n",
              "    'center': True,\n",
              "    'dtype': 'float32',\n",
              "    'epsilon': 0.001,\n",
              "    'gamma_constraint': None,\n",
              "    'gamma_initializer': {'class_name': 'Ones', 'config': {}},\n",
              "    'gamma_regularizer': None,\n",
              "    'momentum': 0.99,\n",
              "    'moving_mean_initializer': {'class_name': 'Zeros', 'config': {}},\n",
              "    'moving_variance_initializer': {'class_name': 'Ones', 'config': {}},\n",
              "    'name': 'batch_normalization',\n",
              "    'scale': True,\n",
              "    'trainable': True}},\n",
              "  {'class_name': 'Conv2D',\n",
              "   'config': {'activation': 'relu',\n",
              "    'activity_regularizer': None,\n",
              "    'bias_constraint': None,\n",
              "    'bias_initializer': {'class_name': 'Zeros', 'config': {}},\n",
              "    'bias_regularizer': None,\n",
              "    'data_format': 'channels_last',\n",
              "    'dilation_rate': (1, 1),\n",
              "    'dtype': 'float32',\n",
              "    'filters': 128,\n",
              "    'groups': 1,\n",
              "    'kernel_constraint': None,\n",
              "    'kernel_initializer': {'class_name': 'GlorotUniform',\n",
              "     'config': {'seed': None}},\n",
              "    'kernel_regularizer': None,\n",
              "    'kernel_size': (5, 5),\n",
              "    'name': 'conv2d_1',\n",
              "    'padding': 'valid',\n",
              "    'strides': (1, 1),\n",
              "    'trainable': True,\n",
              "    'use_bias': True}},\n",
              "  {'class_name': 'BatchNormalization',\n",
              "   'config': {'axis': ListWrapper([3]),\n",
              "    'beta_constraint': None,\n",
              "    'beta_initializer': {'class_name': 'Zeros', 'config': {}},\n",
              "    'beta_regularizer': None,\n",
              "    'center': True,\n",
              "    'dtype': 'float32',\n",
              "    'epsilon': 0.001,\n",
              "    'gamma_constraint': None,\n",
              "    'gamma_initializer': {'class_name': 'Ones', 'config': {}},\n",
              "    'gamma_regularizer': None,\n",
              "    'momentum': 0.99,\n",
              "    'moving_mean_initializer': {'class_name': 'Zeros', 'config': {}},\n",
              "    'moving_variance_initializer': {'class_name': 'Ones', 'config': {}},\n",
              "    'name': 'batch_normalization_1',\n",
              "    'scale': True,\n",
              "    'trainable': True}},\n",
              "  {'class_name': 'MaxPooling2D',\n",
              "   'config': {'data_format': 'channels_last',\n",
              "    'dtype': 'float32',\n",
              "    'name': 'max_pooling2d',\n",
              "    'padding': 'valid',\n",
              "    'pool_size': (2, 2),\n",
              "    'strides': (2, 2),\n",
              "    'trainable': True}},\n",
              "  {'class_name': 'Conv2D',\n",
              "   'config': {'activation': 'relu',\n",
              "    'activity_regularizer': None,\n",
              "    'bias_constraint': None,\n",
              "    'bias_initializer': {'class_name': 'Zeros', 'config': {}},\n",
              "    'bias_regularizer': None,\n",
              "    'data_format': 'channels_last',\n",
              "    'dilation_rate': (1, 1),\n",
              "    'dtype': 'float32',\n",
              "    'filters': 256,\n",
              "    'groups': 1,\n",
              "    'kernel_constraint': None,\n",
              "    'kernel_initializer': {'class_name': 'GlorotUniform',\n",
              "     'config': {'seed': None}},\n",
              "    'kernel_regularizer': None,\n",
              "    'kernel_size': (3, 3),\n",
              "    'name': 'conv2d_2',\n",
              "    'padding': 'valid',\n",
              "    'strides': (1, 1),\n",
              "    'trainable': True,\n",
              "    'use_bias': True}},\n",
              "  {'class_name': 'BatchNormalization',\n",
              "   'config': {'axis': ListWrapper([3]),\n",
              "    'beta_constraint': None,\n",
              "    'beta_initializer': {'class_name': 'Zeros', 'config': {}},\n",
              "    'beta_regularizer': None,\n",
              "    'center': True,\n",
              "    'dtype': 'float32',\n",
              "    'epsilon': 0.001,\n",
              "    'gamma_constraint': None,\n",
              "    'gamma_initializer': {'class_name': 'Ones', 'config': {}},\n",
              "    'gamma_regularizer': None,\n",
              "    'momentum': 0.99,\n",
              "    'moving_mean_initializer': {'class_name': 'Zeros', 'config': {}},\n",
              "    'moving_variance_initializer': {'class_name': 'Ones', 'config': {}},\n",
              "    'name': 'batch_normalization_2',\n",
              "    'scale': True,\n",
              "    'trainable': True}},\n",
              "  {'class_name': 'MaxPooling2D',\n",
              "   'config': {'data_format': 'channels_last',\n",
              "    'dtype': 'float32',\n",
              "    'name': 'max_pooling2d_1',\n",
              "    'padding': 'valid',\n",
              "    'pool_size': (2, 2),\n",
              "    'strides': (2, 2),\n",
              "    'trainable': True}},\n",
              "  {'class_name': 'Conv2D',\n",
              "   'config': {'activation': 'relu',\n",
              "    'activity_regularizer': None,\n",
              "    'bias_constraint': None,\n",
              "    'bias_initializer': {'class_name': 'Zeros', 'config': {}},\n",
              "    'bias_regularizer': None,\n",
              "    'data_format': 'channels_last',\n",
              "    'dilation_rate': (1, 1),\n",
              "    'dtype': 'float32',\n",
              "    'filters': 128,\n",
              "    'groups': 1,\n",
              "    'kernel_constraint': None,\n",
              "    'kernel_initializer': {'class_name': 'GlorotUniform',\n",
              "     'config': {'seed': None}},\n",
              "    'kernel_regularizer': None,\n",
              "    'kernel_size': (1, 1),\n",
              "    'name': 'conv2d_3',\n",
              "    'padding': 'valid',\n",
              "    'strides': (1, 1),\n",
              "    'trainable': True,\n",
              "    'use_bias': True}},\n",
              "  {'class_name': 'BatchNormalization',\n",
              "   'config': {'axis': ListWrapper([3]),\n",
              "    'beta_constraint': None,\n",
              "    'beta_initializer': {'class_name': 'Zeros', 'config': {}},\n",
              "    'beta_regularizer': None,\n",
              "    'center': True,\n",
              "    'dtype': 'float32',\n",
              "    'epsilon': 0.001,\n",
              "    'gamma_constraint': None,\n",
              "    'gamma_initializer': {'class_name': 'Ones', 'config': {}},\n",
              "    'gamma_regularizer': None,\n",
              "    'momentum': 0.99,\n",
              "    'moving_mean_initializer': {'class_name': 'Zeros', 'config': {}},\n",
              "    'moving_variance_initializer': {'class_name': 'Ones', 'config': {}},\n",
              "    'name': 'batch_normalization_3',\n",
              "    'scale': True,\n",
              "    'trainable': True}},\n",
              "  {'class_name': 'MaxPooling2D',\n",
              "   'config': {'data_format': 'channels_last',\n",
              "    'dtype': 'float32',\n",
              "    'name': 'max_pooling2d_2',\n",
              "    'padding': 'valid',\n",
              "    'pool_size': (2, 2),\n",
              "    'strides': (2, 2),\n",
              "    'trainable': True}},\n",
              "  {'class_name': 'Dropout',\n",
              "   'config': {'dtype': 'float32',\n",
              "    'name': 'dropout',\n",
              "    'noise_shape': None,\n",
              "    'rate': 0.5,\n",
              "    'seed': None,\n",
              "    'trainable': True}},\n",
              "  {'class_name': 'Conv2D',\n",
              "   'config': {'activation': 'relu',\n",
              "    'activity_regularizer': None,\n",
              "    'bias_constraint': None,\n",
              "    'bias_initializer': {'class_name': 'Zeros', 'config': {}},\n",
              "    'bias_regularizer': None,\n",
              "    'data_format': 'channels_last',\n",
              "    'dilation_rate': (1, 1),\n",
              "    'dtype': 'float32',\n",
              "    'filters': 512,\n",
              "    'groups': 1,\n",
              "    'kernel_constraint': None,\n",
              "    'kernel_initializer': {'class_name': 'GlorotUniform',\n",
              "     'config': {'seed': None}},\n",
              "    'kernel_regularizer': None,\n",
              "    'kernel_size': (5, 5),\n",
              "    'name': 'conv2d_4',\n",
              "    'padding': 'valid',\n",
              "    'strides': (1, 1),\n",
              "    'trainable': True,\n",
              "    'use_bias': True}},\n",
              "  {'class_name': 'BatchNormalization',\n",
              "   'config': {'axis': ListWrapper([3]),\n",
              "    'beta_constraint': None,\n",
              "    'beta_initializer': {'class_name': 'Zeros', 'config': {}},\n",
              "    'beta_regularizer': None,\n",
              "    'center': True,\n",
              "    'dtype': 'float32',\n",
              "    'epsilon': 0.001,\n",
              "    'gamma_constraint': None,\n",
              "    'gamma_initializer': {'class_name': 'Ones', 'config': {}},\n",
              "    'gamma_regularizer': None,\n",
              "    'momentum': 0.99,\n",
              "    'moving_mean_initializer': {'class_name': 'Zeros', 'config': {}},\n",
              "    'moving_variance_initializer': {'class_name': 'Ones', 'config': {}},\n",
              "    'name': 'batch_normalization_4',\n",
              "    'scale': True,\n",
              "    'trainable': True}},\n",
              "  {'class_name': 'MaxPooling2D',\n",
              "   'config': {'data_format': 'channels_last',\n",
              "    'dtype': 'float32',\n",
              "    'name': 'max_pooling2d_3',\n",
              "    'padding': 'valid',\n",
              "    'pool_size': (2, 2),\n",
              "    'strides': (2, 2),\n",
              "    'trainable': True}},\n",
              "  {'class_name': 'Conv2D',\n",
              "   'config': {'activation': 'relu',\n",
              "    'activity_regularizer': None,\n",
              "    'bias_constraint': None,\n",
              "    'bias_initializer': {'class_name': 'Zeros', 'config': {}},\n",
              "    'bias_regularizer': None,\n",
              "    'data_format': 'channels_last',\n",
              "    'dilation_rate': (1, 1),\n",
              "    'dtype': 'float32',\n",
              "    'filters': 256,\n",
              "    'groups': 1,\n",
              "    'kernel_constraint': None,\n",
              "    'kernel_initializer': {'class_name': 'GlorotUniform',\n",
              "     'config': {'seed': None}},\n",
              "    'kernel_regularizer': None,\n",
              "    'kernel_size': (3, 3),\n",
              "    'name': 'conv2d_5',\n",
              "    'padding': 'valid',\n",
              "    'strides': (1, 1),\n",
              "    'trainable': True,\n",
              "    'use_bias': True}},\n",
              "  {'class_name': 'BatchNormalization',\n",
              "   'config': {'axis': ListWrapper([3]),\n",
              "    'beta_constraint': None,\n",
              "    'beta_initializer': {'class_name': 'Zeros', 'config': {}},\n",
              "    'beta_regularizer': None,\n",
              "    'center': True,\n",
              "    'dtype': 'float32',\n",
              "    'epsilon': 0.001,\n",
              "    'gamma_constraint': None,\n",
              "    'gamma_initializer': {'class_name': 'Ones', 'config': {}},\n",
              "    'gamma_regularizer': None,\n",
              "    'momentum': 0.99,\n",
              "    'moving_mean_initializer': {'class_name': 'Zeros', 'config': {}},\n",
              "    'moving_variance_initializer': {'class_name': 'Ones', 'config': {}},\n",
              "    'name': 'batch_normalization_5',\n",
              "    'scale': True,\n",
              "    'trainable': True}},\n",
              "  {'class_name': 'MaxPooling2D',\n",
              "   'config': {'data_format': 'channels_last',\n",
              "    'dtype': 'float32',\n",
              "    'name': 'max_pooling2d_4',\n",
              "    'padding': 'valid',\n",
              "    'pool_size': (2, 2),\n",
              "    'strides': (2, 2),\n",
              "    'trainable': True}},\n",
              "  {'class_name': 'Conv2D',\n",
              "   'config': {'activation': 'relu',\n",
              "    'activity_regularizer': None,\n",
              "    'bias_constraint': None,\n",
              "    'bias_initializer': {'class_name': 'Zeros', 'config': {}},\n",
              "    'bias_regularizer': None,\n",
              "    'data_format': 'channels_last',\n",
              "    'dilation_rate': (1, 1),\n",
              "    'dtype': 'float32',\n",
              "    'filters': 128,\n",
              "    'groups': 1,\n",
              "    'kernel_constraint': None,\n",
              "    'kernel_initializer': {'class_name': 'GlorotUniform',\n",
              "     'config': {'seed': None}},\n",
              "    'kernel_regularizer': None,\n",
              "    'kernel_size': (3, 3),\n",
              "    'name': 'conv2d_6',\n",
              "    'padding': 'valid',\n",
              "    'strides': (1, 1),\n",
              "    'trainable': True,\n",
              "    'use_bias': True}},\n",
              "  {'class_name': 'BatchNormalization',\n",
              "   'config': {'axis': ListWrapper([3]),\n",
              "    'beta_constraint': None,\n",
              "    'beta_initializer': {'class_name': 'Zeros', 'config': {}},\n",
              "    'beta_regularizer': None,\n",
              "    'center': True,\n",
              "    'dtype': 'float32',\n",
              "    'epsilon': 0.001,\n",
              "    'gamma_constraint': None,\n",
              "    'gamma_initializer': {'class_name': 'Ones', 'config': {}},\n",
              "    'gamma_regularizer': None,\n",
              "    'momentum': 0.99,\n",
              "    'moving_mean_initializer': {'class_name': 'Zeros', 'config': {}},\n",
              "    'moving_variance_initializer': {'class_name': 'Ones', 'config': {}},\n",
              "    'name': 'batch_normalization_6',\n",
              "    'scale': True,\n",
              "    'trainable': True}},\n",
              "  {'class_name': 'MaxPooling2D',\n",
              "   'config': {'data_format': 'channels_last',\n",
              "    'dtype': 'float32',\n",
              "    'name': 'max_pooling2d_5',\n",
              "    'padding': 'valid',\n",
              "    'pool_size': (2, 2),\n",
              "    'strides': (2, 2),\n",
              "    'trainable': True}},\n",
              "  {'class_name': 'Dropout',\n",
              "   'config': {'dtype': 'float32',\n",
              "    'name': 'dropout_1',\n",
              "    'noise_shape': None,\n",
              "    'rate': 0.5,\n",
              "    'seed': None,\n",
              "    'trainable': True}},\n",
              "  {'class_name': 'Flatten',\n",
              "   'config': {'data_format': 'channels_last',\n",
              "    'dtype': 'float32',\n",
              "    'name': 'flatten',\n",
              "    'trainable': True}},\n",
              "  {'class_name': 'Dense',\n",
              "   'config': {'activation': 'relu',\n",
              "    'activity_regularizer': None,\n",
              "    'bias_constraint': None,\n",
              "    'bias_initializer': {'class_name': 'Zeros', 'config': {}},\n",
              "    'bias_regularizer': None,\n",
              "    'dtype': 'float32',\n",
              "    'kernel_constraint': None,\n",
              "    'kernel_initializer': {'class_name': 'GlorotUniform',\n",
              "     'config': {'seed': None}},\n",
              "    'kernel_regularizer': None,\n",
              "    'name': 'dense',\n",
              "    'trainable': True,\n",
              "    'units': 1024,\n",
              "    'use_bias': True}},\n",
              "  {'class_name': 'Dropout',\n",
              "   'config': {'dtype': 'float32',\n",
              "    'name': 'dropout_2',\n",
              "    'noise_shape': None,\n",
              "    'rate': 0.2,\n",
              "    'seed': None,\n",
              "    'trainable': True}},\n",
              "  {'class_name': 'Dense',\n",
              "   'config': {'activation': 'relu',\n",
              "    'activity_regularizer': None,\n",
              "    'bias_constraint': None,\n",
              "    'bias_initializer': {'class_name': 'Zeros', 'config': {}},\n",
              "    'bias_regularizer': None,\n",
              "    'dtype': 'float32',\n",
              "    'kernel_constraint': None,\n",
              "    'kernel_initializer': {'class_name': 'GlorotUniform',\n",
              "     'config': {'seed': None}},\n",
              "    'kernel_regularizer': None,\n",
              "    'name': 'dense_1',\n",
              "    'trainable': True,\n",
              "    'units': 1024,\n",
              "    'use_bias': True}},\n",
              "  {'class_name': 'Dense',\n",
              "   'config': {'activation': 'relu',\n",
              "    'activity_regularizer': None,\n",
              "    'bias_constraint': None,\n",
              "    'bias_initializer': {'class_name': 'Zeros', 'config': {}},\n",
              "    'bias_regularizer': None,\n",
              "    'dtype': 'float32',\n",
              "    'kernel_constraint': None,\n",
              "    'kernel_initializer': {'class_name': 'GlorotUniform',\n",
              "     'config': {'seed': None}},\n",
              "    'kernel_regularizer': None,\n",
              "    'name': 'dense_2',\n",
              "    'trainable': True,\n",
              "    'units': 256,\n",
              "    'use_bias': True}},\n",
              "  {'class_name': 'Dense',\n",
              "   'config': {'activation': 'softmax',\n",
              "    'activity_regularizer': None,\n",
              "    'bias_constraint': None,\n",
              "    'bias_initializer': {'class_name': 'Zeros', 'config': {}},\n",
              "    'bias_regularizer': None,\n",
              "    'dtype': 'float32',\n",
              "    'kernel_constraint': None,\n",
              "    'kernel_initializer': {'class_name': 'GlorotUniform',\n",
              "     'config': {'seed': None}},\n",
              "    'kernel_regularizer': None,\n",
              "    'name': 'dense_3',\n",
              "    'trainable': True,\n",
              "    'units': 40,\n",
              "    'use_bias': True}}],\n",
              " 'name': 'sequential'}"
            ]
          },
          "metadata": {
            "tags": []
          },
          "execution_count": 135
        }
      ]
    },
    {
      "cell_type": "code",
      "metadata": {
        "id": "lEN9qkw-Z4oV"
      },
      "source": [
        "class RebuildModel:\n",
        "    def __init__(self):\n",
        "        self.model_weights = []\n",
        "        self.model_config = [] \n",
        "\n",
        "    def add_layer(self,weights, config):\n",
        "        self.model_weights.append(weights)\n",
        "        self.model_config.append(config)\n",
        "\n",
        "    \n",
        "        "
      ],
      "execution_count": null,
      "outputs": []
    },
    {
      "cell_type": "code",
      "metadata": {
        "id": "4JTaDO3-c2i5"
      },
      "source": [
        "class Prunning:\n",
        "    def __init__(self, model, percent_to_prune = 0.1):\n",
        "        self.init_model = model\n",
        "        self.layers = self.init_model.layers\n",
        "        self.layers_num = len(self.init_model.layers)\n",
        "        self.conv_layers_indices = self.get_conv_layers_indices()\n",
        "        assert ((percent_to_prune > 0) and (percent_to_prune <1)), 'the percentage of filters to prune should be greater than 0 and less than 1'\n",
        "        \n",
        "        self.percent_to_prune = percent_to_prune\n",
        "\n",
        "        self.layers_weights = self.get_layers_info()\n",
        "        self.model_config = self.init_model.get_config()\n",
        "        \n",
        "    def get_layers_info(self):\n",
        "        layers_weights = dict()\n",
        "        for layer in self.layers:\n",
        "            layers_weights[layer.name] = layer.get_weights()\n",
        "        return layers_weights\n",
        "    \n",
        "    def find_config_index_by_name(self, name):\n",
        "        for i in range(len(self.model_config['layers'])):\n",
        "            if self.model_config['layers'][i]['config']['name'] == name:\n",
        "                return i\n",
        "\n",
        "    def get_conv_layers_indices(self):\n",
        "        \"\"\"\n",
        "        returns list of indices of convolutional layers in model\n",
        "        \"\"\"\n",
        "        res = []\n",
        "        for i,layer in enumerate(self.layers):\n",
        "            #print(layer.name)\n",
        "            if 'conv2d' in layer.name:\n",
        "                res.append(i)\n",
        "\n",
        "        return res\n",
        "\n",
        "    def sum_of_absolute_kernel_weights(self, kernel:np.ndarray):\n",
        "        \"\"\"\n",
        "        calculate the sum of its absolute kernel weights\n",
        "        \"\"\"\n",
        "        return np.sum(np.abs(kernel))\n",
        "\n",
        "    def sum_of_filter(self,_filter):\n",
        "        \"\"\"\n",
        "        calculate the sum of the sum of absolute kernel weights\n",
        "        on a filter\n",
        "        \"\"\"\n",
        "        res = np.zeros(shape=(_filter.shape[-1]))\n",
        "        for i in range(_filter.shape[-1]):\n",
        "            res[i] = self.sum_of_absolute_kernel_weights(_filter[:,:,i])\n",
        "        return np.sum(res)\n",
        "\n",
        "    def prune_filters(self, m:int, axis:int, indeces_to_prune:np.ndarray, weights:np.ndarray):\n",
        "        \"\"\"\n",
        "        deletes m filters along given axis that correspond to indices in weights matrix \n",
        "        \"\"\"\n",
        "        pruned_weights = np.delete(weights, indeces_to_prune, axis=axis)\n",
        "        return pruned_weights\n",
        "\n",
        "    def assign_weights(self,layer_name, weights):\n",
        "        \"\"\"\n",
        "        assigns weights and set new number of filters for layer\n",
        "        \"\"\"\n",
        "        self.layers_weights[layer_name] = weights\n",
        "        \n",
        "\n",
        "    def assign_filters_num(self, layer_name, new_filters_num):\n",
        "        layer_config_index = self.find_config_index_by_name(layer_name)\n",
        "        self.model_config['layers'][layer_config_index]['config']['filters'] = new_filters_num\n",
        "        #self.layers_configs[layer_name]['filters'] = new_filters_num\n",
        "\n",
        "\n",
        "    def process_conv_layer(self, layer_index: int, next_conv_layer_index:int = None):\n",
        "        layer =  self.layers[layer_index]\n",
        "        all_weights = self.layers_weights[layer.name]\n",
        "        weights = all_weights[0]\n",
        "        biases = all_weights[1]\n",
        "\n",
        "        output_depth = weights.shape[3]\n",
        "\n",
        "        sum_of_weights = np.zeros(shape=(output_depth))\n",
        "        for j in range(output_depth):\n",
        "            sum_of_weights[j] = self.sum_of_filter(weights[:,:,:,j])\n",
        "        sorted_indeces = np.argsort(sum_of_weights)\n",
        "\n",
        "        m = int(output_depth * self.percent_to_prune)\n",
        "        resulted_filters_num =  output_depth -  m\n",
        "        indeces_to_prune = sorted_indeces[:m]\n",
        "\n",
        "        pruned_weights = self.prune_filters(m, 3, indeces_to_prune, weights)\n",
        "        pruned_biases = self.prune_filters(m, 0, indeces_to_prune, biases)\n",
        "\n",
        "        self.assign_weights(layer.name, [pruned_weights, pruned_biases])\n",
        "        self.assign_filters_num(layer.name, resulted_filters_num)\n",
        "\n",
        "        self.remove_corresponding_channels_until_next_conv(m, resulted_filters_num,indeces_to_prune, layer_index + 1,next_conv_layer_index)\n",
        "\n",
        "        #prune 3 channel of next conv layer\n",
        "        if next_conv_layer_index is not None:\n",
        "            next_conv_layer = self.layers[next_conv_layer_index]\n",
        "            all_weights = self.layers_weights[next_conv_layer.name]\n",
        "            weights = all_weights[0]\n",
        "            biases = all_weights[1]\n",
        "\n",
        "            weights = self.prune_filters(m, 2, indeces_to_prune, weights)\n",
        "            self.assign_weights(next_conv_layer.name, [weights, biases])   \n",
        "\n",
        "\n",
        "\n",
        "    def print_model_weights_shape(self):\n",
        "        for lname, lweights in self.layers_weights.items():\n",
        "            for w in lweights:\n",
        "                print(f\"{lname}: {w.shape}\")\n",
        " \n",
        "\n",
        "    def remove_corresponding_channels_until_next_conv(self, m, new_filters_num, indeces_to_prune, start_index, stop_index):\n",
        "        \"\"\"\n",
        "        removes corresponding weights in following layers until stop index\n",
        "        \"\"\"\n",
        "        print(f'corresponding: start:{start_index}  end:{stop_index}')\n",
        "        if stop_index is None:\n",
        "            #conv layers ended and we should just prune next layer\n",
        "            for i in range(start_index, len(self.layers)):\n",
        "                #find first dense layer after conv layers\n",
        "                if 'dense' in self.layers[i].name:\n",
        "                    stop_index = i+1\n",
        "                    break\n",
        "             \n",
        "        for i in range(start_index, stop_index):\n",
        "            #prune non conv layers\n",
        "            layer = self.layers[i]\n",
        "            class_name = self.init_model.get_config()['layers'][i+1]['class_name']\n",
        "            #print(f'i: {i}, class name: {class_name}, layer name: {layer.name}')\n",
        "\n",
        "            if class_name == 'BatchNormalization':\n",
        "                new_weights =[self.prune_filters(m,0,indeces_to_prune,old_w) for old_w in self.layers_weights[layer.name]]\n",
        "                self.assign_weights(layer.name, new_weights)\n",
        "\n",
        "            elif class_name == 'Dense':\n",
        "                all_weights = self.layers_weights[layer.name]\n",
        "                input = all_weights[0]\n",
        "                output = all_weights[1]\n",
        "                new_input = self.prune_filters(m, 0, indeces_to_prune,input)\n",
        "                self.assign_weights(layer.name, [new_input, output])\n",
        "\n",
        "    def prepare_weights(self):\n",
        "        res = []\n",
        "        for layer in self.layers:\n",
        "            for w in self.layers_weights[layer.name]:\n",
        "                res.append(w)\n",
        "        return res\n",
        "\n",
        "    def return_new_pruned_model(self):\n",
        "        new_model = keras.Sequential.from_config(self.model_config)\n",
        "        prepared_weights = self.prepare_weights()\n",
        "        new_model.set_weights(prepared_weights)\n",
        "        return new_model\n",
        "\n",
        "    def prune_model(self):\n",
        "        #1. for each conv layer:\n",
        "        #2. calculate the sum of its absolute kernel\n",
        "#знайти суму абсолютних ваг в 5х5 фільтрі і записати в масив n x m\n",
        "#де n вхідна розмірність глибини, m - вихідна\n",
        "#Далі посортувати цю матрицю  (хз пока як)\n",
        "# вибрати якусь кількість фільтрів з найменшою суммою і видалити їх з конв шару(\n",
        "#     видаляєм j фільтр з вхідної матриці ваг і видаляєм j матрицю з вихідного шару\n",
        "# )\n",
        "        \n",
        "        # fst, snd = self.conv_layers_indices[1:3]\n",
        "        # print(fst, snd)\n",
        "        # self.process_conv_layer(fst, snd)\n",
        "        \n",
        "        for i in range(len(self.conv_layers_indices)):\n",
        "            #print(f'iteration: {i}')\n",
        "            try:\n",
        "                self.process_conv_layer(self.conv_layers_indices[i],self.conv_layers_indices[i+1])\n",
        "            except IndexError:\n",
        "                self.process_conv_layer(self.conv_layers_indices[i], None)\n",
        "\n",
        "        return self.return_new_pruned_model()\n",
        "\n",
        "# ЯКШО ДВА КОНВ ШАРИ ІДУТЬ ПІДРЯД, ТО НА НАСТУПНОМУ ОБРІЗАЄМО 2 ОСТАННІ КАНАЛИ\n"
      ],
      "execution_count": null,
      "outputs": []
    },
    {
      "cell_type": "code",
      "metadata": {
        "colab": {
          "base_uri": "https://localhost:8080/"
        },
        "id": "muDnUquoeMFo",
        "outputId": "039942f0-b228-4a1d-f079-0fe46a393111"
      },
      "source": [
        "prun = Prunning(model, percent_to_prune=0.1)\n",
        "prun.conv_layers_indices"
      ],
      "execution_count": null,
      "outputs": [
        {
          "output_type": "execute_result",
          "data": {
            "text/plain": [
              "[0, 2, 5, 8, 12, 15, 18]"
            ]
          },
          "metadata": {
            "tags": []
          },
          "execution_count": 7
        }
      ]
    },
    {
      "cell_type": "code",
      "metadata": {
        "colab": {
          "base_uri": "https://localhost:8080/"
        },
        "id": "24dkwqZx1akO",
        "outputId": "7d7d5e38-8a3a-4fb2-a1a4-13ecece1cf61"
      },
      "source": [
        "prun.conv_layers_indices"
      ],
      "execution_count": null,
      "outputs": [
        {
          "output_type": "execute_result",
          "data": {
            "text/plain": [
              "[0, 2, 5, 8, 12, 15, 18]"
            ]
          },
          "metadata": {
            "tags": []
          },
          "execution_count": 81
        }
      ]
    },
    {
      "cell_type": "code",
      "metadata": {
        "colab": {
          "base_uri": "https://localhost:8080/"
        },
        "id": "RcQYFG1GyjuJ",
        "outputId": "c6e5eac1-911a-4288-b12a-f5bb5e9bc1d2"
      },
      "source": [
        "prun.print_model_weights_shape()"
      ],
      "execution_count": null,
      "outputs": [
        {
          "output_type": "stream",
          "text": [
            "conv2d: (3, 3, 3, 64)\n",
            "conv2d: (64,)\n",
            "batch_normalization: (64,)\n",
            "batch_normalization: (64,)\n",
            "batch_normalization: (64,)\n",
            "batch_normalization: (64,)\n",
            "conv2d_1: (5, 5, 64, 128)\n",
            "conv2d_1: (128,)\n",
            "batch_normalization_1: (128,)\n",
            "batch_normalization_1: (128,)\n",
            "batch_normalization_1: (128,)\n",
            "batch_normalization_1: (128,)\n",
            "conv2d_2: (3, 3, 128, 256)\n",
            "conv2d_2: (256,)\n",
            "batch_normalization_2: (256,)\n",
            "batch_normalization_2: (256,)\n",
            "batch_normalization_2: (256,)\n",
            "batch_normalization_2: (256,)\n",
            "conv2d_3: (1, 1, 256, 128)\n",
            "conv2d_3: (128,)\n",
            "batch_normalization_3: (128,)\n",
            "batch_normalization_3: (128,)\n",
            "batch_normalization_3: (128,)\n",
            "batch_normalization_3: (128,)\n",
            "conv2d_4: (5, 5, 128, 512)\n",
            "conv2d_4: (512,)\n",
            "batch_normalization_4: (512,)\n",
            "batch_normalization_4: (512,)\n",
            "batch_normalization_4: (512,)\n",
            "batch_normalization_4: (512,)\n",
            "conv2d_5: (3, 3, 512, 256)\n",
            "conv2d_5: (256,)\n",
            "batch_normalization_5: (256,)\n",
            "batch_normalization_5: (256,)\n",
            "batch_normalization_5: (256,)\n",
            "batch_normalization_5: (256,)\n",
            "conv2d_6: (3, 3, 256, 128)\n",
            "conv2d_6: (128,)\n",
            "batch_normalization_6: (128,)\n",
            "batch_normalization_6: (128,)\n",
            "batch_normalization_6: (128,)\n",
            "batch_normalization_6: (128,)\n",
            "dense: (128, 1024)\n",
            "dense: (1024,)\n",
            "dense_1: (1024, 1024)\n",
            "dense_1: (1024,)\n",
            "dense_2: (1024, 256)\n",
            "dense_2: (256,)\n",
            "dense_3: (256, 40)\n",
            "dense_3: (40,)\n"
          ],
          "name": "stdout"
        }
      ]
    },
    {
      "cell_type": "code",
      "metadata": {
        "colab": {
          "base_uri": "https://localhost:8080/"
        },
        "id": "-nre_u0tJGg4",
        "outputId": "59a6a385-fbd6-47c4-c75c-a5cb60d1a220"
      },
      "source": [
        "new_m = prun.prune_model()"
      ],
      "execution_count": null,
      "outputs": [
        {
          "output_type": "stream",
          "text": [
            "corresponding: start:1  end:2\n",
            "corresponding: start:3  end:5\n",
            "corresponding: start:6  end:8\n",
            "corresponding: start:9  end:12\n",
            "corresponding: start:13  end:15\n",
            "corresponding: start:16  end:18\n",
            "corresponding: start:19  end:None\n"
          ],
          "name": "stdout"
        }
      ]
    },
    {
      "cell_type": "code",
      "metadata": {
        "colab": {
          "base_uri": "https://localhost:8080/"
        },
        "id": "sVv8seVnecu1",
        "outputId": "c0bdbfbd-f8ff-4e0c-e0cb-d9afc041533a"
      },
      "source": [
        "new_m.summary()"
      ],
      "execution_count": null,
      "outputs": [
        {
          "output_type": "stream",
          "text": [
            "Model: \"sequential\"\n",
            "_________________________________________________________________\n",
            "Layer (type)                 Output Shape              Param #   \n",
            "=================================================================\n",
            "conv2d (Conv2D)              (None, 224, 224, 58)      1624      \n",
            "_________________________________________________________________\n",
            "batch_normalization (BatchNo (None, 224, 224, 58)      232       \n",
            "_________________________________________________________________\n",
            "conv2d_1 (Conv2D)            (None, 220, 220, 116)     168316    \n",
            "_________________________________________________________________\n",
            "batch_normalization_1 (Batch (None, 220, 220, 116)     464       \n",
            "_________________________________________________________________\n",
            "max_pooling2d (MaxPooling2D) (None, 110, 110, 116)     0         \n",
            "_________________________________________________________________\n",
            "conv2d_2 (Conv2D)            (None, 108, 108, 231)     241395    \n",
            "_________________________________________________________________\n",
            "batch_normalization_2 (Batch (None, 108, 108, 231)     924       \n",
            "_________________________________________________________________\n",
            "max_pooling2d_1 (MaxPooling2 (None, 54, 54, 231)       0         \n",
            "_________________________________________________________________\n",
            "conv2d_3 (Conv2D)            (None, 54, 54, 116)       26912     \n",
            "_________________________________________________________________\n",
            "batch_normalization_3 (Batch (None, 54, 54, 116)       464       \n",
            "_________________________________________________________________\n",
            "max_pooling2d_2 (MaxPooling2 (None, 27, 27, 116)       0         \n",
            "_________________________________________________________________\n",
            "dropout (Dropout)            (None, 27, 27, 116)       0         \n",
            "_________________________________________________________________\n",
            "conv2d_4 (Conv2D)            (None, 23, 23, 461)       1337361   \n",
            "_________________________________________________________________\n",
            "batch_normalization_4 (Batch (None, 23, 23, 461)       1844      \n",
            "_________________________________________________________________\n",
            "max_pooling2d_3 (MaxPooling2 (None, 11, 11, 461)       0         \n",
            "_________________________________________________________________\n",
            "conv2d_5 (Conv2D)            (None, 9, 9, 231)         958650    \n",
            "_________________________________________________________________\n",
            "batch_normalization_5 (Batch (None, 9, 9, 231)         924       \n",
            "_________________________________________________________________\n",
            "max_pooling2d_4 (MaxPooling2 (None, 4, 4, 231)         0         \n",
            "_________________________________________________________________\n",
            "conv2d_6 (Conv2D)            (None, 2, 2, 116)         241280    \n",
            "_________________________________________________________________\n",
            "batch_normalization_6 (Batch (None, 2, 2, 116)         464       \n",
            "_________________________________________________________________\n",
            "max_pooling2d_5 (MaxPooling2 (None, 1, 1, 116)         0         \n",
            "_________________________________________________________________\n",
            "dropout_1 (Dropout)          (None, 1, 1, 116)         0         \n",
            "_________________________________________________________________\n",
            "flatten (Flatten)            (None, 116)               0         \n",
            "_________________________________________________________________\n",
            "dense (Dense)                (None, 1024)              119808    \n",
            "_________________________________________________________________\n",
            "dropout_2 (Dropout)          (None, 1024)              0         \n",
            "_________________________________________________________________\n",
            "dense_1 (Dense)              (None, 1024)              1049600   \n",
            "_________________________________________________________________\n",
            "dense_2 (Dense)              (None, 256)               262400    \n",
            "_________________________________________________________________\n",
            "dense_3 (Dense)              (None, 40)                10280     \n",
            "=================================================================\n",
            "Total params: 4,422,942\n",
            "Trainable params: 4,420,284\n",
            "Non-trainable params: 2,658\n",
            "_________________________________________________________________\n"
          ],
          "name": "stdout"
        }
      ]
    },
    {
      "cell_type": "code",
      "metadata": {
        "colab": {
          "base_uri": "https://localhost:8080/"
        },
        "id": "wUwmwMmPxGkL",
        "outputId": "4d6a6164-15cd-4314-9a7e-92545d87c88b"
      },
      "source": [
        "x_train = np.load('/content/drive/My Drive/datasets/birds/x_train2.npy')\n",
        "y_train = np.load('/content/drive/My Drive/datasets/birds/y_train2.npy')\n",
        "x_valid = np.load('/content/drive/My Drive/datasets/birds/x_valid2.npy')\n",
        "y_valid = np.load('/content/drive/My Drive/datasets/birds/y_valid2.npy')\n",
        "\n",
        "x_valid = x_valid / 255\n",
        "x_valid, y_valid = shuffle(x_valid, y_valid) \n",
        "x_train = x_train / 255\n",
        "\n",
        "x_train, y_train = shuffle(x_train, y_train) \n",
        "\n",
        "print(\"x_train shape = \",x_train.shape)\n",
        "print(\"y_train shape = \",y_train.shape)\n",
        "print(\"\\nx_test shape = \",x_test.shape)\n",
        "print(\"y_test shape = \",y_test.shape)\n"
      ],
      "execution_count": null,
      "outputs": [
        {
          "output_type": "stream",
          "text": [
            "x_train shape =  (5391, 224, 224, 3)\n",
            "y_train shape =  (5391,)\n",
            "\n",
            "x_test shape =  (200, 224, 224, 3)\n",
            "y_test shape =  (200,)\n"
          ],
          "name": "stdout"
        }
      ]
    },
    {
      "cell_type": "code",
      "metadata": {
        "colab": {
          "base_uri": "https://localhost:8080/"
        },
        "id": "8TnonDNeyosA",
        "outputId": "9c127521-43fe-4eab-b19e-0afbd647c5df"
      },
      "source": [
        "es_callback = keras.callbacks.EarlyStopping(monitor='val_loss', patience=3)\n",
        "\n",
        "history = new_m.fit(x_train, y_train, batch_size=64, epochs=5, validation_data=(x_valid,y_valid),  callbacks=[es_callback])"
      ],
      "execution_count": null,
      "outputs": [
        {
          "output_type": "stream",
          "text": [
            "Epoch 1/5\n",
            "85/85 [==============================] - 80s 937ms/step - loss: 0.1614 - accuracy: 0.9544 - val_loss: 1.0749 - val_accuracy: 0.7950\n",
            "Epoch 2/5\n",
            "85/85 [==============================] - 80s 946ms/step - loss: 0.1587 - accuracy: 0.9564 - val_loss: 1.0233 - val_accuracy: 0.8000\n",
            "Epoch 3/5\n",
            "85/85 [==============================] - 81s 947ms/step - loss: 0.1547 - accuracy: 0.9579 - val_loss: 0.9546 - val_accuracy: 0.8600\n",
            "Epoch 4/5\n",
            "85/85 [==============================] - 80s 946ms/step - loss: 0.1470 - accuracy: 0.9559 - val_loss: 1.0397 - val_accuracy: 0.8350\n",
            "Epoch 5/5\n",
            "85/85 [==============================] - 80s 945ms/step - loss: 0.1260 - accuracy: 0.9638 - val_loss: 0.8800 - val_accuracy: 0.8150\n"
          ],
          "name": "stdout"
        }
      ]
    },
    {
      "cell_type": "code",
      "metadata": {
        "colab": {
          "base_uri": "https://localhost:8080/"
        },
        "id": "67CSGWBMd0RC",
        "outputId": "92988ed7-4e92-474d-af49-07d4897936c2"
      },
      "source": [
        "new_m.compile(optimizer='adam' ,loss=losses.sparse_categorical_crossentropy, metrics=['accuracy'])\n",
        "preds = new_m.evaluate(x_test, y_test)\n",
        "### END CODE HERE ###\n",
        "\n",
        "print (\"Loss = \" + str(preds[0]))\n",
        "print (\"Test Accuracy = \" + str(preds[1]))"
      ],
      "execution_count": null,
      "outputs": [
        {
          "output_type": "stream",
          "text": [
            "7/7 [==============================] - 1s 95ms/step - loss: 0.6794 - accuracy: 0.9171\n",
            "Loss = 0.7041952610015869\n",
            "Test Accuracy = 0.9049999713897705\n"
          ],
          "name": "stdout"
        }
      ]
    },
    {
      "cell_type": "code",
      "metadata": {
        "colab": {
          "base_uri": "https://localhost:8080/"
        },
        "id": "wPNxwuxy0gLX",
        "outputId": "a7095ae4-7967-4466-c592-44e0816410b1"
      },
      "source": [
        "prun.print_model_weights_shape()"
      ],
      "execution_count": null,
      "outputs": [
        {
          "output_type": "stream",
          "text": [
            "conv2d: (3, 3, 3, 39)\n",
            "conv2d: (39,)\n",
            "batch_normalization: (39,)\n",
            "batch_normalization: (39,)\n",
            "batch_normalization: (39,)\n",
            "batch_normalization: (39,)\n",
            "conv2d_1: (5, 5, 39, 77)\n",
            "conv2d_1: (77,)\n",
            "batch_normalization_1: (77,)\n",
            "batch_normalization_1: (77,)\n",
            "batch_normalization_1: (77,)\n",
            "batch_normalization_1: (77,)\n",
            "conv2d_2: (3, 3, 77, 154)\n",
            "conv2d_2: (154,)\n",
            "batch_normalization_2: (154,)\n",
            "batch_normalization_2: (154,)\n",
            "batch_normalization_2: (154,)\n",
            "batch_normalization_2: (154,)\n",
            "conv2d_3: (1, 1, 154, 77)\n",
            "conv2d_3: (77,)\n",
            "batch_normalization_3: (77,)\n",
            "batch_normalization_3: (77,)\n",
            "batch_normalization_3: (77,)\n",
            "batch_normalization_3: (77,)\n",
            "conv2d_4: (5, 5, 77, 308)\n",
            "conv2d_4: (308,)\n",
            "batch_normalization_4: (308,)\n",
            "batch_normalization_4: (308,)\n",
            "batch_normalization_4: (308,)\n",
            "batch_normalization_4: (308,)\n",
            "conv2d_5: (3, 3, 308, 154)\n",
            "conv2d_5: (154,)\n",
            "batch_normalization_5: (154,)\n",
            "batch_normalization_5: (154,)\n",
            "batch_normalization_5: (154,)\n",
            "batch_normalization_5: (154,)\n",
            "conv2d_6: (3, 3, 154, 77)\n",
            "conv2d_6: (77,)\n",
            "batch_normalization_6: (77,)\n",
            "batch_normalization_6: (77,)\n",
            "batch_normalization_6: (77,)\n",
            "batch_normalization_6: (77,)\n",
            "dense: (77, 1024)\n",
            "dense: (1024,)\n",
            "dense_1: (1024, 1024)\n",
            "dense_1: (1024,)\n",
            "dense_2: (1024, 256)\n",
            "dense_2: (256,)\n",
            "dense_3: (256, 40)\n",
            "dense_3: (40,)\n"
          ],
          "name": "stdout"
        }
      ]
    },
    {
      "cell_type": "code",
      "metadata": {
        "id": "Y_WrtsoAfGih"
      },
      "source": [
        "prun.model_config"
      ],
      "execution_count": null,
      "outputs": []
    },
    {
      "cell_type": "code",
      "metadata": {
        "id": "DI1U3fYWpPeg"
      },
      "source": [
        "prepared_weights = prun.prepare_weights()"
      ],
      "execution_count": null,
      "outputs": []
    },
    {
      "cell_type": "code",
      "metadata": {
        "colab": {
          "base_uri": "https://localhost:8080/"
        },
        "id": "HJwowRA8pyME",
        "outputId": "0e088fcf-95a0-4b86-9faf-7c47c0d1a7c3"
      },
      "source": [
        "len(prepared_weights)"
      ],
      "execution_count": null,
      "outputs": [
        {
          "output_type": "execute_result",
          "data": {
            "text/plain": [
              "50"
            ]
          },
          "metadata": {
            "tags": []
          },
          "execution_count": 164
        }
      ]
    },
    {
      "cell_type": "code",
      "metadata": {
        "id": "pR8NkZcbpvOx"
      },
      "source": [
        "for a in prepared_weights:\n",
        "    print(a.shape)"
      ],
      "execution_count": null,
      "outputs": []
    },
    {
      "cell_type": "code",
      "metadata": {
        "id": "0QzvOp3_qSqB"
      },
      "source": [
        "new_model = prun.return_new_pruned_model()"
      ],
      "execution_count": null,
      "outputs": []
    },
    {
      "cell_type": "code",
      "metadata": {
        "id": "1NGf4YTYqZqY"
      },
      "source": [
        "new_model.summary()"
      ],
      "execution_count": null,
      "outputs": []
    },
    {
      "cell_type": "code",
      "metadata": {
        "colab": {
          "base_uri": "https://localhost:8080/"
        },
        "id": "j8zaGQdlqhtk",
        "outputId": "692f553a-da53-46a0-a12b-c32d46f3c139"
      },
      "source": [
        "new_model.compile(optimizer='adam' ,loss=losses.sparse_categorical_crossentropy, metrics=['accuracy'])\n",
        "preds = new_model.evaluate(x_test, y_test)\n",
        "### END CODE HERE ###\n",
        "\n",
        "print (\"Loss = \" + str(preds[0]))\n",
        "print (\"Test Accuracy = \" + str(preds[1]))"
      ],
      "execution_count": null,
      "outputs": [
        {
          "output_type": "stream",
          "text": [
            "7/7 [==============================] - 4s 221ms/step - loss: 4.6022 - accuracy: 0.1234\n",
            "Loss = 4.80044412612915\n",
            "Test Accuracy = 0.11999999731779099\n"
          ],
          "name": "stdout"
        }
      ]
    },
    {
      "cell_type": "code",
      "metadata": {
        "id": "jlCjRQhAaj5L"
      },
      "source": [
        "prune_percents = np.arange(0.05,1,0.05, dtype=np.float32)"
      ],
      "execution_count": null,
      "outputs": []
    },
    {
      "cell_type": "code",
      "metadata": {
        "colab": {
          "base_uri": "https://localhost:8080/"
        },
        "id": "K5tlUt6ia7yS",
        "outputId": "6806636d-4081-40be-a753-17672ee8a1cd"
      },
      "source": [
        "prune_percents "
      ],
      "execution_count": null,
      "outputs": [
        {
          "output_type": "execute_result",
          "data": {
            "text/plain": [
              "array([0.05      , 0.1       , 0.15      , 0.2       , 0.25      ,\n",
              "       0.3       , 0.35000002, 0.4       , 0.45000002, 0.5       ,\n",
              "       0.55      , 0.6       , 0.65000004, 0.70000005, 0.75      ,\n",
              "       0.8       , 0.85      , 0.90000004, 0.95000005], dtype=float32)"
            ]
          },
          "metadata": {
            "tags": []
          },
          "execution_count": 39
        }
      ]
    },
    {
      "cell_type": "code",
      "metadata": {
        "colab": {
          "base_uri": "https://localhost:8080/"
        },
        "id": "7WVMPdbtbG30",
        "outputId": "6a673965-86c1-4343-f5b2-acac41123e15"
      },
      "source": [
        "res_accuracies = []\n",
        "\n",
        "for percent in prune_percents:\n",
        "    prun = Prunning(model, percent)\n",
        "    new_model = prun.prune_model()\n",
        "\n",
        "    new_model.compile(optimizer='adam' ,loss=losses.sparse_categorical_crossentropy, metrics=['accuracy'])\n",
        "    preds = new_model.evaluate(x_test, y_test)\n",
        "\n",
        "    print (f\"Percent:{percent} Test Accuracy = {preds[1]}\")\n",
        "    res_accuracies.append(preds[1])\n",
        "\n",
        "print('=======================================================')"
      ],
      "execution_count": null,
      "outputs": [
        {
          "output_type": "stream",
          "text": [
            "corresponding: start:1  end:2\n",
            "corresponding: start:3  end:5\n",
            "corresponding: start:6  end:8\n",
            "corresponding: start:9  end:12\n",
            "corresponding: start:13  end:15\n",
            "corresponding: start:16  end:18\n",
            "corresponding: start:19  end:None\n",
            "7/7 [==============================] - 6s 446ms/step - loss: 0.4573 - accuracy: 0.9151\n",
            "Percent:0.05000000074505806 Test Accuracy = 0.8899999856948853\n",
            "corresponding: start:1  end:2\n",
            "corresponding: start:3  end:5\n",
            "corresponding: start:6  end:8\n",
            "corresponding: start:9  end:12\n",
            "corresponding: start:13  end:15\n",
            "corresponding: start:16  end:18\n",
            "corresponding: start:19  end:None\n",
            "7/7 [==============================] - 1s 98ms/step - loss: 0.4451 - accuracy: 0.8840\n",
            "Percent:0.10000000149011612 Test Accuracy = 0.8700000047683716\n",
            "corresponding: start:1  end:2\n",
            "corresponding: start:3  end:5\n",
            "corresponding: start:6  end:8\n",
            "corresponding: start:9  end:12\n",
            "corresponding: start:13  end:15\n",
            "corresponding: start:16  end:18\n",
            "corresponding: start:19  end:None\n",
            "7/7 [==============================] - 6s 392ms/step - loss: 0.6478 - accuracy: 0.8414\n",
            "Percent:0.15000000596046448 Test Accuracy = 0.8299999833106995\n",
            "corresponding: start:1  end:2\n",
            "corresponding: start:3  end:5\n",
            "corresponding: start:6  end:8\n",
            "corresponding: start:9  end:12\n",
            "corresponding: start:13  end:15\n",
            "corresponding: start:16  end:18\n",
            "corresponding: start:19  end:None\n",
            "7/7 [==============================] - 6s 366ms/step - loss: 1.2210 - accuracy: 0.7316\n",
            "Percent:0.20000000298023224 Test Accuracy = 0.7200000286102295\n",
            "corresponding: start:1  end:2\n",
            "corresponding: start:3  end:5\n",
            "corresponding: start:6  end:8\n",
            "corresponding: start:9  end:12\n",
            "corresponding: start:13  end:15\n",
            "corresponding: start:16  end:18\n",
            "corresponding: start:19  end:None\n",
            "7/7 [==============================] - 5s 305ms/step - loss: 1.9040 - accuracy: 0.5440\n",
            "Percent:0.25 Test Accuracy = 0.5400000214576721\n",
            "corresponding: start:1  end:2\n",
            "corresponding: start:3  end:5\n",
            "corresponding: start:6  end:8\n",
            "corresponding: start:9  end:12\n",
            "corresponding: start:13  end:15\n",
            "corresponding: start:16  end:18\n",
            "corresponding: start:19  end:None\n",
            "7/7 [==============================] - 5s 291ms/step - loss: 3.2578 - accuracy: 0.3107\n",
            "Percent:0.30000001192092896 Test Accuracy = 0.3149999976158142\n",
            "corresponding: start:1  end:2\n",
            "corresponding: start:3  end:5\n",
            "corresponding: start:6  end:8\n",
            "corresponding: start:9  end:12\n",
            "corresponding: start:13  end:15\n",
            "corresponding: start:16  end:18\n",
            "corresponding: start:19  end:None\n",
            "7/7 [==============================] - 2s 262ms/step - loss: 3.9334 - accuracy: 0.1877\n",
            "Percent:0.3500000238418579 Test Accuracy = 0.1850000023841858\n",
            "corresponding: start:1  end:2\n",
            "corresponding: start:3  end:5\n",
            "corresponding: start:6  end:8\n",
            "corresponding: start:9  end:12\n",
            "corresponding: start:13  end:15\n",
            "corresponding: start:16  end:18\n",
            "corresponding: start:19  end:None\n",
            "7/7 [==============================] - 1s 66ms/step - loss: 4.6559 - accuracy: 0.1310\n",
            "Percent:0.4000000059604645 Test Accuracy = 0.11999999731779099\n",
            "corresponding: start:1  end:2\n",
            "corresponding: start:3  end:5\n",
            "corresponding: start:6  end:8\n",
            "corresponding: start:9  end:12\n",
            "corresponding: start:13  end:15\n",
            "corresponding: start:16  end:18\n",
            "corresponding: start:19  end:None\n",
            "7/7 [==============================] - 1s 61ms/step - loss: 4.7885 - accuracy: 0.0586\n",
            "Percent:0.45000001788139343 Test Accuracy = 0.07000000029802322\n",
            "corresponding: start:1  end:2\n",
            "corresponding: start:3  end:5\n",
            "corresponding: start:6  end:8\n",
            "corresponding: start:9  end:12\n",
            "corresponding: start:13  end:15\n",
            "corresponding: start:16  end:18\n",
            "corresponding: start:19  end:None\n",
            "7/7 [==============================] - 2s 156ms/step - loss: 4.9848 - accuracy: 0.0419\n",
            "Percent:0.5 Test Accuracy = 0.03999999910593033\n",
            "corresponding: start:1  end:2\n",
            "corresponding: start:3  end:5\n",
            "corresponding: start:6  end:8\n",
            "corresponding: start:9  end:12\n",
            "corresponding: start:13  end:15\n",
            "corresponding: start:16  end:18\n",
            "corresponding: start:19  end:None\n",
            "7/7 [==============================] - 1s 45ms/step - loss: 4.7887 - accuracy: 0.0365\n",
            "Percent:0.550000011920929 Test Accuracy = 0.03500000014901161\n",
            "corresponding: start:1  end:2\n",
            "corresponding: start:3  end:5\n",
            "corresponding: start:6  end:8\n",
            "corresponding: start:9  end:12\n",
            "corresponding: start:13  end:15\n",
            "corresponding: start:16  end:18\n",
            "corresponding: start:19  end:None\n",
            "7/7 [==============================] - 1s 41ms/step - loss: 4.7143 - accuracy: 0.0292\n",
            "Percent:0.6000000238418579 Test Accuracy = 0.029999999329447746\n",
            "corresponding: start:1  end:2\n",
            "corresponding: start:3  end:5\n",
            "corresponding: start:6  end:8\n",
            "corresponding: start:9  end:12\n",
            "corresponding: start:13  end:15\n",
            "corresponding: start:16  end:18\n",
            "corresponding: start:19  end:None\n",
            "7/7 [==============================] - 1s 36ms/step - loss: 4.7022 - accuracy: 0.0310\n",
            "Percent:0.6500000357627869 Test Accuracy = 0.02500000037252903\n",
            "corresponding: start:1  end:2\n",
            "corresponding: start:3  end:5\n",
            "corresponding: start:6  end:8\n",
            "corresponding: start:9  end:12\n",
            "corresponding: start:13  end:15\n",
            "corresponding: start:16  end:18\n",
            "corresponding: start:19  end:None\n",
            "7/7 [==============================] - 1s 33ms/step - loss: 4.6150 - accuracy: 0.0178\n",
            "Percent:0.7000000476837158 Test Accuracy = 0.02500000037252903\n",
            "corresponding: start:1  end:2\n",
            "corresponding: start:3  end:5\n",
            "corresponding: start:6  end:8\n",
            "corresponding: start:9  end:12\n",
            "corresponding: start:13  end:15\n",
            "corresponding: start:16  end:18\n",
            "corresponding: start:19  end:None\n",
            "7/7 [==============================] - 1s 65ms/step - loss: 4.5728 - accuracy: 0.0178\n",
            "Percent:0.75 Test Accuracy = 0.02500000037252903\n",
            "corresponding: start:1  end:2\n",
            "corresponding: start:3  end:5\n",
            "corresponding: start:6  end:8\n",
            "corresponding: start:9  end:12\n",
            "corresponding: start:13  end:15\n",
            "corresponding: start:16  end:18\n",
            "corresponding: start:19  end:None\n",
            "7/7 [==============================] - 0s 23ms/step - loss: 4.3760 - accuracy: 0.0354\n",
            "Percent:0.800000011920929 Test Accuracy = 0.02500000037252903\n",
            "corresponding: start:1  end:2\n",
            "corresponding: start:3  end:5\n",
            "corresponding: start:6  end:8\n",
            "corresponding: start:9  end:12\n",
            "corresponding: start:13  end:15\n",
            "corresponding: start:16  end:18\n",
            "corresponding: start:19  end:None\n",
            "7/7 [==============================] - 0s 20ms/step - loss: 4.0882 - accuracy: 0.0240\n",
            "Percent:0.8500000238418579 Test Accuracy = 0.02500000037252903\n",
            "corresponding: start:1  end:2\n",
            "corresponding: start:3  end:5\n",
            "corresponding: start:6  end:8\n",
            "corresponding: start:9  end:12\n",
            "corresponding: start:13  end:15\n",
            "corresponding: start:16  end:18\n",
            "corresponding: start:19  end:None\n",
            "7/7 [==============================] - 0s 18ms/step - loss: 4.0906 - accuracy: 0.0240\n",
            "Percent:0.9000000357627869 Test Accuracy = 0.02500000037252903\n",
            "corresponding: start:1  end:2\n",
            "corresponding: start:3  end:5\n",
            "corresponding: start:6  end:8\n",
            "corresponding: start:9  end:12\n",
            "corresponding: start:13  end:15\n",
            "corresponding: start:16  end:18\n",
            "corresponding: start:19  end:None\n",
            "7/7 [==============================] - 0s 17ms/step - loss: 3.9240 - accuracy: 0.0240\n",
            "Percent:0.9500000476837158 Test Accuracy = 0.02500000037252903\n",
            "=======================================================\n"
          ],
          "name": "stdout"
        }
      ]
    },
    {
      "cell_type": "code",
      "metadata": {
        "colab": {
          "base_uri": "https://localhost:8080/"
        },
        "id": "PyJeYoWEfbM4",
        "outputId": "a7f00e18-53e4-4b8c-f0b0-415adee260d0"
      },
      "source": [
        "res_accuracies"
      ],
      "execution_count": null,
      "outputs": [
        {
          "output_type": "execute_result",
          "data": {
            "text/plain": [
              "[0.8899999856948853,\n",
              " 0.8700000047683716,\n",
              " 0.8299999833106995,\n",
              " 0.7200000286102295,\n",
              " 0.5400000214576721,\n",
              " 0.3149999976158142,\n",
              " 0.1850000023841858,\n",
              " 0.11999999731779099,\n",
              " 0.07000000029802322,\n",
              " 0.03999999910593033,\n",
              " 0.03500000014901161,\n",
              " 0.029999999329447746,\n",
              " 0.02500000037252903,\n",
              " 0.02500000037252903,\n",
              " 0.02500000037252903,\n",
              " 0.02500000037252903,\n",
              " 0.02500000037252903,\n",
              " 0.02500000037252903,\n",
              " 0.02500000037252903]"
            ]
          },
          "metadata": {
            "tags": []
          },
          "execution_count": 43
        }
      ]
    },
    {
      "cell_type": "code",
      "metadata": {
        "colab": {
          "base_uri": "https://localhost:8080/",
          "height": 279
        },
        "id": "F1FCMI6ifeXh",
        "outputId": "10f67254-cf42-4e00-f154-12a1d91df505"
      },
      "source": [
        "plt.plot(prune_percents, res_accuracies)\n",
        "plt.xlabel('percents of pruned')\n",
        "plt.ylabel('model accuracy')\n",
        "plt.draw()"
      ],
      "execution_count": null,
      "outputs": [
        {
          "output_type": "display_data",
          "data": {
            "image/png": "[encoded data removed]",
            "text/plain": [
              "<Figure size 432x288 with 1 Axes>"
            ]
          },
          "metadata": {
            "tags": [],
            "needs_background": "light"
          }
        }
      ]
    }
  ]
}